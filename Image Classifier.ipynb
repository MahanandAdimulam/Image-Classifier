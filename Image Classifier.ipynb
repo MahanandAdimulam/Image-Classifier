{
 "cells": [
  {
   "cell_type": "code",
   "execution_count": 1,
   "id": "initial_id",
   "metadata": {
    "collapsed": true,
    "ExecuteTime": {
     "end_time": "2024-02-13T22:14:06.264289800Z",
     "start_time": "2024-02-13T22:14:00.062880400Z"
    }
   },
   "outputs": [],
   "source": [
    "import tensorflow as tf\n",
    "import os"
   ]
  },
  {
   "cell_type": "code",
   "execution_count": 2,
   "outputs": [],
   "source": [
    "#Avoid OOm errors by setting GPU Memory Consumption Growth\n",
    "gpus = tf.config.experimental.list_physical_devices('GPU')\n",
    "for gpu in gpus:\n",
    "    tf.config.experimental.set_memory_growth(gpu, True)"
   ],
   "metadata": {
    "collapsed": false,
    "ExecuteTime": {
     "end_time": "2024-02-13T22:14:06.282242Z",
     "start_time": "2024-02-13T22:14:06.272268400Z"
    }
   },
   "id": "4ce14e799aa8a335"
  },
  {
   "cell_type": "markdown",
   "source": [
    "# Removing dodgy images"
   ],
   "metadata": {
    "collapsed": false
   },
   "id": "7564c6139dfaceae"
  },
  {
   "cell_type": "code",
   "execution_count": 3,
   "outputs": [],
   "source": [
    "import cv2\n",
    "import imghdr"
   ],
   "metadata": {
    "collapsed": false,
    "ExecuteTime": {
     "end_time": "2024-02-13T22:14:06.342080400Z",
     "start_time": "2024-02-13T22:14:06.282242Z"
    }
   },
   "id": "ca6601c89b5b26e6"
  },
  {
   "cell_type": "code",
   "execution_count": 4,
   "outputs": [],
   "source": [
    "data_dir = 'data'\n",
    "image_exts = ['jpeg','jpg','bmp','png']"
   ],
   "metadata": {
    "collapsed": false,
    "ExecuteTime": {
     "end_time": "2024-02-13T22:14:06.357047300Z",
     "start_time": "2024-02-13T22:14:06.349063Z"
    }
   },
   "id": "395f753e54669f36"
  },
  {
   "cell_type": "code",
   "execution_count": 5,
   "outputs": [],
   "source": [
    "for image_class in os.listdir(data_dir):\n",
    "    for image in os.listdir(os.path.join(data_dir,image_class)):\n",
    "        image_path = os.path.join(data_dir,image_class,image)\n",
    "        try:\n",
    "            img = cv2.imread(image_path)\n",
    "            tip = imghdr.what(image_path)\n",
    "            if tip not in image_exts:\n",
    "                print('Image not in ext list {}'.format(image_path))\n",
    "                os.remove(image_path)\n",
    "        except Exception as e:\n",
    "            print(\"issue with image {}\".format((image_path)))"
   ],
   "metadata": {
    "collapsed": false,
    "ExecuteTime": {
     "end_time": "2024-02-13T22:14:11.221028400Z",
     "start_time": "2024-02-13T22:14:06.365020400Z"
    }
   },
   "id": "f865055c919d983b"
  },
  {
   "cell_type": "markdown",
   "source": [
    "# Loading the dataset"
   ],
   "metadata": {
    "collapsed": false
   },
   "id": "b1f88c8fca3952d7"
  },
  {
   "cell_type": "code",
   "execution_count": 6,
   "outputs": [],
   "source": [
    "import numpy as np\n",
    "import matplotlib.pyplot as plt"
   ],
   "metadata": {
    "collapsed": false,
    "ExecuteTime": {
     "end_time": "2024-02-13T22:14:11.898218200Z",
     "start_time": "2024-02-13T22:14:11.225017400Z"
    }
   },
   "id": "45f1d3441cf9ede2"
  },
  {
   "cell_type": "code",
   "execution_count": 7,
   "outputs": [
    {
     "name": "stdout",
     "output_type": "stream",
     "text": [
      "Found 157 files belonging to 2 classes.\n"
     ]
    }
   ],
   "source": [
    "data = tf.keras.utils.image_dataset_from_directory('data')"
   ],
   "metadata": {
    "collapsed": false,
    "ExecuteTime": {
     "end_time": "2024-02-13T22:14:12.056793100Z",
     "start_time": "2024-02-13T22:14:11.904203100Z"
    }
   },
   "id": "2c4c394b8d4ac1bc"
  },
  {
   "cell_type": "code",
   "execution_count": 8,
   "outputs": [],
   "source": [
    "data_iterator = data.as_numpy_iterator()"
   ],
   "metadata": {
    "collapsed": false,
    "ExecuteTime": {
     "end_time": "2024-02-13T22:14:12.131592200Z",
     "start_time": "2024-02-13T22:14:12.062776300Z"
    }
   },
   "id": "fafdfdb88305981b"
  },
  {
   "cell_type": "code",
   "execution_count": 9,
   "outputs": [],
   "source": [
    "batch = data_iterator.next()"
   ],
   "metadata": {
    "collapsed": false,
    "ExecuteTime": {
     "end_time": "2024-02-13T22:14:12.553464900Z",
     "start_time": "2024-02-13T22:14:12.091699800Z"
    }
   },
   "id": "616a6dcbb9c39e0b"
  },
  {
   "cell_type": "code",
   "execution_count": 10,
   "outputs": [
    {
     "data": {
      "text/plain": "(8, 256, 256, 3)"
     },
     "execution_count": 10,
     "metadata": {},
     "output_type": "execute_result"
    }
   ],
   "source": [
    "#Images represented as numpy arrays\n",
    "batch[0].shape"
   ],
   "metadata": {
    "collapsed": false,
    "ExecuteTime": {
     "end_time": "2024-02-13T22:14:12.624274500Z",
     "start_time": "2024-02-13T22:14:12.554462300Z"
    }
   },
   "id": "bc1d116c05e00ac4"
  },
  {
   "cell_type": "code",
   "execution_count": 11,
   "outputs": [
    {
     "data": {
      "text/plain": "array([0, 1, 0, 0, 1, 1, 0, 1])"
     },
     "execution_count": 11,
     "metadata": {},
     "output_type": "execute_result"
    }
   ],
   "source": [
    "#Image labels\n",
    "batch[1]"
   ],
   "metadata": {
    "collapsed": false,
    "ExecuteTime": {
     "end_time": "2024-02-13T22:14:12.649209700Z",
     "start_time": "2024-02-13T22:14:12.594355100Z"
    }
   },
   "id": "1bc0d447438d9359"
  },
  {
   "cell_type": "markdown",
   "source": [
    "# 2. Preprocesing the data"
   ],
   "metadata": {
    "collapsed": false
   },
   "id": "8b4107e15ca0120f"
  },
  {
   "cell_type": "markdown",
   "source": [
    "## 2.1 Scale Data"
   ],
   "metadata": {
    "collapsed": false
   },
   "id": "143cf78806f5fd32"
  },
  {
   "cell_type": "code",
   "execution_count": 12,
   "outputs": [],
   "source": [
    "data = data.map(lambda x,y :(x/255,y))"
   ],
   "metadata": {
    "collapsed": false,
    "ExecuteTime": {
     "end_time": "2024-02-13T22:14:12.722016Z",
     "start_time": "2024-02-13T22:14:12.620286500Z"
    }
   },
   "id": "3090aed2df6e370f"
  },
  {
   "cell_type": "code",
   "execution_count": 13,
   "outputs": [],
   "source": [
    "scaled_iterator = data.as_numpy_iterator()"
   ],
   "metadata": {
    "collapsed": false,
    "ExecuteTime": {
     "end_time": "2024-02-13T22:14:12.768888700Z",
     "start_time": "2024-02-13T22:14:12.713039700Z"
    }
   },
   "id": "859147e3ee888b7f"
  },
  {
   "cell_type": "code",
   "execution_count": 14,
   "outputs": [],
   "source": [
    "batch = scaled_iterator.next()"
   ],
   "metadata": {
    "collapsed": false,
    "ExecuteTime": {
     "end_time": "2024-02-13T22:14:13.224668300Z",
     "start_time": "2024-02-13T22:14:12.778863400Z"
    }
   },
   "id": "229bff14f10b5f86"
  },
  {
   "cell_type": "markdown",
   "source": [
    "## 2.2 Split the data"
   ],
   "metadata": {
    "collapsed": false
   },
   "id": "8d211508c5aadec8"
  },
  {
   "cell_type": "code",
   "execution_count": 16,
   "outputs": [],
   "source": [
    "train_size = int(len(data)*.7)\n",
    "val_size = int(len(data)*.2)\n",
    "test_size = int(len(data)*.1)"
   ],
   "metadata": {
    "collapsed": false,
    "ExecuteTime": {
     "end_time": "2024-02-13T22:14:31.077481600Z",
     "start_time": "2024-02-13T22:14:31.037590600Z"
    }
   },
   "id": "7280feb377361f47"
  },
  {
   "cell_type": "code",
   "execution_count": 20,
   "outputs": [],
   "source": [
    "train = data.take(train_size)\n",
    "val = data.skip(train_size).take(val_size)\n",
    "test = data.skip(train_size).skip(val_size).take(test_size)"
   ],
   "metadata": {
    "collapsed": false,
    "ExecuteTime": {
     "end_time": "2024-02-13T22:24:51.075348400Z",
     "start_time": "2024-02-13T22:24:51.017241200Z"
    }
   },
   "id": "80469e4bfd67e3c6"
  },
  {
   "cell_type": "markdown",
   "source": [
    "# 3. Deep Learning Model"
   ],
   "metadata": {
    "collapsed": false
   },
   "id": "c6069c68ac491a18"
  },
  {
   "cell_type": "markdown",
   "source": [
    "## 3.1 Building the deep learning model"
   ],
   "metadata": {
    "collapsed": false
   },
   "id": "367c075520628dcb"
  },
  {
   "cell_type": "code",
   "execution_count": 21,
   "outputs": [],
   "source": [
    "from tensorflow.keras.models import Sequential\n",
    "from tensorflow.keras.layers import Conv2D, MaxPooling2D, Dense, Flatten, Dropout"
   ],
   "metadata": {
    "collapsed": false,
    "ExecuteTime": {
     "end_time": "2024-02-13T22:29:45.971662200Z",
     "start_time": "2024-02-13T22:29:45.914846500Z"
    }
   },
   "id": "db90b27aee9ebe90"
  },
  {
   "cell_type": "code",
   "execution_count": 24,
   "outputs": [],
   "source": [
    "model = Sequential()\n",
    "model.add(Conv2D(16, (3,3), 1, activation='relu', input_shape=(256,256,3)))\n",
    "model.add(MaxPooling2D())\n",
    "\n",
    "model.add(Conv2D(32, (3,3), 1, activation='relu'))\n",
    "model.add(MaxPooling2D())\n",
    "\n",
    "model.add(Conv2D(16, (3,3), 1, activation='relu'))\n",
    "model.add(MaxPooling2D())\n",
    "\n",
    "model.add(Flatten())\n",
    "\n",
    "model.add(Dense(256, activation='relu'))\n",
    "model.add(Dense(1, activation='sigmoid'))"
   ],
   "metadata": {
    "collapsed": false,
    "ExecuteTime": {
     "end_time": "2024-02-13T23:05:46.380060200Z",
     "start_time": "2024-02-13T23:05:46.204529900Z"
    }
   },
   "id": "cfa18e37d3d8e8c9"
  },
  {
   "cell_type": "code",
   "execution_count": 25,
   "outputs": [],
   "source": [
    "model.compile('adam', loss=tf.losses.BinaryCrossentropy(), metrics=['accuracy'])"
   ],
   "metadata": {
    "collapsed": false,
    "ExecuteTime": {
     "end_time": "2024-02-13T23:08:37.769385200Z",
     "start_time": "2024-02-13T23:08:37.708258300Z"
    }
   },
   "id": "47813b72d2358922"
  },
  {
   "cell_type": "code",
   "execution_count": 27,
   "outputs": [
    {
     "name": "stdout",
     "output_type": "stream",
     "text": [
      "Model: \"sequential_2\"\n",
      "_________________________________________________________________\n",
      " Layer (type)                Output Shape              Param #   \n",
      "=================================================================\n",
      " conv2d_2 (Conv2D)           (None, 254, 254, 16)      448       \n",
      "                                                                 \n",
      " max_pooling2d_2 (MaxPooling  (None, 127, 127, 16)     0         \n",
      " 2D)                                                             \n",
      "                                                                 \n",
      " conv2d_3 (Conv2D)           (None, 125, 125, 32)      4640      \n",
      "                                                                 \n",
      " max_pooling2d_3 (MaxPooling  (None, 62, 62, 32)       0         \n",
      " 2D)                                                             \n",
      "                                                                 \n",
      " conv2d_4 (Conv2D)           (None, 60, 60, 16)        4624      \n",
      "                                                                 \n",
      " max_pooling2d_4 (MaxPooling  (None, 30, 30, 16)       0         \n",
      " 2D)                                                             \n",
      "                                                                 \n",
      " flatten (Flatten)           (None, 14400)             0         \n",
      "                                                                 \n",
      " dense (Dense)               (None, 256)               3686656   \n",
      "                                                                 \n",
      " dense_1 (Dense)             (None, 1)                 257       \n",
      "                                                                 \n",
      "=================================================================\n",
      "Total params: 3,696,625\n",
      "Trainable params: 3,696,625\n",
      "Non-trainable params: 0\n",
      "_________________________________________________________________\n"
     ]
    }
   ],
   "source": [
    "model.summary()"
   ],
   "metadata": {
    "collapsed": false,
    "ExecuteTime": {
     "end_time": "2024-02-13T23:09:14.476116700Z",
     "start_time": "2024-02-13T23:09:14.362523200Z"
    }
   },
   "id": "ff4bc9d150dd97ed"
  },
  {
   "cell_type": "markdown",
   "source": [
    "## 3.2 Training the model"
   ],
   "metadata": {
    "collapsed": false
   },
   "id": "3874b5eee6847492"
  },
  {
   "cell_type": "code",
   "execution_count": 28,
   "outputs": [],
   "source": [
    "logdir='logs'"
   ],
   "metadata": {
    "collapsed": false,
    "ExecuteTime": {
     "end_time": "2024-02-13T23:12:51.577864800Z",
     "start_time": "2024-02-13T23:12:51.512229Z"
    }
   },
   "id": "247643c2b06c314a"
  },
  {
   "cell_type": "code",
   "execution_count": 29,
   "outputs": [],
   "source": [
    "tensorboard_callback = tf.keras.callbacks.TensorBoard(log_dir=logdir)"
   ],
   "metadata": {
    "collapsed": false,
    "ExecuteTime": {
     "end_time": "2024-02-13T23:13:32.199176200Z",
     "start_time": "2024-02-13T23:13:32.165267300Z"
    }
   },
   "id": "6fe6d287d9daacda"
  },
  {
   "cell_type": "code",
   "execution_count": 30,
   "outputs": [
    {
     "name": "stdout",
     "output_type": "stream",
     "text": [
      "Epoch 1/20\n",
      "14/14 [==============================] - 9s 420ms/step - loss: 0.9124 - accuracy: 0.5536 - val_loss: 0.6135 - val_accuracy: 0.5938\n",
      "Epoch 2/20\n",
      "14/14 [==============================] - 6s 407ms/step - loss: 0.6397 - accuracy: 0.6518 - val_loss: 0.6047 - val_accuracy: 0.6250\n",
      "Epoch 3/20\n",
      "14/14 [==============================] - 8s 545ms/step - loss: 0.6033 - accuracy: 0.7500 - val_loss: 0.5876 - val_accuracy: 0.7188\n",
      "Epoch 4/20\n",
      "14/14 [==============================] - 8s 527ms/step - loss: 0.5482 - accuracy: 0.7411 - val_loss: 0.4521 - val_accuracy: 0.8750\n",
      "Epoch 5/20\n",
      "14/14 [==============================] - 6s 424ms/step - loss: 0.3340 - accuracy: 0.9196 - val_loss: 0.5451 - val_accuracy: 0.8125\n",
      "Epoch 6/20\n",
      "14/14 [==============================] - 7s 477ms/step - loss: 0.3257 - accuracy: 0.8750 - val_loss: 0.3216 - val_accuracy: 0.8438\n",
      "Epoch 7/20\n",
      "14/14 [==============================] - 8s 569ms/step - loss: 0.2338 - accuracy: 0.9196 - val_loss: 0.1632 - val_accuracy: 0.9375\n",
      "Epoch 8/20\n",
      "14/14 [==============================] - 7s 446ms/step - loss: 0.1408 - accuracy: 0.9554 - val_loss: 0.0798 - val_accuracy: 1.0000\n",
      "Epoch 9/20\n",
      "14/14 [==============================] - 6s 435ms/step - loss: 0.0707 - accuracy: 1.0000 - val_loss: 0.0473 - val_accuracy: 1.0000\n",
      "Epoch 10/20\n",
      "14/14 [==============================] - 5s 321ms/step - loss: 0.0461 - accuracy: 0.9821 - val_loss: 0.0926 - val_accuracy: 1.0000\n",
      "Epoch 11/20\n",
      "14/14 [==============================] - 5s 307ms/step - loss: 0.0540 - accuracy: 0.9911 - val_loss: 0.1082 - val_accuracy: 0.9688\n",
      "Epoch 12/20\n",
      "14/14 [==============================] - 5s 318ms/step - loss: 0.0330 - accuracy: 1.0000 - val_loss: 0.0596 - val_accuracy: 0.9688\n",
      "Epoch 13/20\n",
      "14/14 [==============================] - 5s 310ms/step - loss: 0.0149 - accuracy: 1.0000 - val_loss: 0.0118 - val_accuracy: 1.0000\n",
      "Epoch 14/20\n",
      "14/14 [==============================] - 5s 304ms/step - loss: 0.0148 - accuracy: 1.0000 - val_loss: 0.0040 - val_accuracy: 1.0000\n",
      "Epoch 15/20\n",
      "14/14 [==============================] - 8s 551ms/step - loss: 0.0242 - accuracy: 1.0000 - val_loss: 0.0130 - val_accuracy: 1.0000\n",
      "Epoch 16/20\n",
      "14/14 [==============================] - 7s 471ms/step - loss: 0.0182 - accuracy: 1.0000 - val_loss: 0.0200 - val_accuracy: 1.0000\n",
      "Epoch 17/20\n",
      "14/14 [==============================] - 7s 466ms/step - loss: 0.0047 - accuracy: 1.0000 - val_loss: 0.0046 - val_accuracy: 1.0000\n",
      "Epoch 18/20\n",
      "14/14 [==============================] - 7s 439ms/step - loss: 0.0015 - accuracy: 1.0000 - val_loss: 0.0012 - val_accuracy: 1.0000\n",
      "Epoch 19/20\n",
      "14/14 [==============================] - 7s 453ms/step - loss: 6.0765e-04 - accuracy: 1.0000 - val_loss: 0.0020 - val_accuracy: 1.0000\n",
      "Epoch 20/20\n",
      "14/14 [==============================] - 7s 434ms/step - loss: 3.6716e-04 - accuracy: 1.0000 - val_loss: 3.9833e-04 - val_accuracy: 1.0000\n"
     ]
    }
   ],
   "source": [
    "hist = model.fit(train, epochs=20, validation_data=val, callbacks=[tensorboard_callback])"
   ],
   "metadata": {
    "collapsed": false,
    "ExecuteTime": {
     "end_time": "2024-02-13T23:17:06.123156400Z",
     "start_time": "2024-02-13T23:14:51.487765800Z"
    }
   },
   "id": "34bf8953f49fab1c"
  },
  {
   "cell_type": "markdown",
   "source": [
    "## 3.3 Performance Plot"
   ],
   "metadata": {
    "collapsed": false
   },
   "id": "dfb8594fabdd5122"
  },
  {
   "cell_type": "code",
   "execution_count": null,
   "outputs": [],
   "source": [
    "fig = plt.figure()\n",
    "plt.plot(hist.history['loss'], color='teal', label='loss')\n",
    "plt.plot(hist.history['val_loss'], color='orange', label='val_loss')\n",
    "fig.suptitle('Loss', fontsize=20)\n",
    "plt.legend(loc=\"upper left\")\n",
    "plt.show()"
   ],
   "metadata": {
    "collapsed": false,
    "is_executing": true,
    "ExecuteTime": {
     "start_time": "2024-02-13T23:19:54.233602500Z"
    }
   },
   "id": "de1df59440d62d55"
  },
  {
   "cell_type": "code",
   "execution_count": null,
   "outputs": [],
   "source": [
    "fig = plt.figure()\n",
    "plt.plot(hist.history['accuracy'], color='teal', label='accuracy')\n",
    "plt.plot(hist.history['val_accuracy'], color='orange', label='val_accuracy')\n",
    "fig.suptitle('Accuracy', fontsize=20)\n",
    "plt.legend(loc=\"upper left\")\n",
    "plt.show()"
   ],
   "metadata": {
    "collapsed": false
   },
   "id": "3d0d05e3f25ab4ba"
  },
  {
   "cell_type": "code",
   "execution_count": null,
   "outputs": [],
   "source": [],
   "metadata": {
    "collapsed": false
   },
   "id": "658d322420f6a2f8"
  }
 ],
 "metadata": {
  "kernelspec": {
   "display_name": "Python 3",
   "language": "python",
   "name": "python3"
  },
  "language_info": {
   "codemirror_mode": {
    "name": "ipython",
    "version": 2
   },
   "file_extension": ".py",
   "mimetype": "text/x-python",
   "name": "python",
   "nbconvert_exporter": "python",
   "pygments_lexer": "ipython2",
   "version": "2.7.6"
  }
 },
 "nbformat": 4,
 "nbformat_minor": 5
}
