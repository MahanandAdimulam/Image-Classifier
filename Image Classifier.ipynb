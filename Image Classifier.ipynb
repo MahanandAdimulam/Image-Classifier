{
 "cells": [
  {
   "cell_type": "code",
   "execution_count": 1,
   "id": "initial_id",
   "metadata": {
    "collapsed": true,
    "ExecuteTime": {
     "end_time": "2024-02-13T19:29:25.039761Z",
     "start_time": "2024-02-13T19:29:18.597992900Z"
    }
   },
   "outputs": [],
   "source": [
    "import tensorflow as tf\n",
    "import os"
   ]
  },
  {
   "cell_type": "code",
   "execution_count": 3,
   "outputs": [],
   "source": [
    "#Avoid OOm errors by setting GPU Memory Consumption Growth\n",
    "gpus = tf.config.experimental.list_physical_devices('GPU')\n",
    "for gpu in gpus:\n",
    "    tf.config.experimental.set_memory_growth(gpu, True)"
   ],
   "metadata": {
    "collapsed": false,
    "ExecuteTime": {
     "end_time": "2024-02-13T19:32:25.063529900Z",
     "start_time": "2024-02-13T19:32:24.996701700Z"
    }
   },
   "id": "4ce14e799aa8a335"
  },
  {
   "cell_type": "markdown",
   "source": [
    "Remove Dodgy Images"
   ],
   "metadata": {
    "collapsed": false
   },
   "id": "7564c6139dfaceae"
  },
  {
   "cell_type": "code",
   "execution_count": 5,
   "outputs": [],
   "source": [
    "import cv2\n",
    "import imghdr"
   ],
   "metadata": {
    "collapsed": false,
    "ExecuteTime": {
     "end_time": "2024-02-13T19:59:18.579558Z",
     "start_time": "2024-02-13T19:59:18.107819600Z"
    }
   },
   "id": "ca6601c89b5b26e6"
  },
  {
   "cell_type": "code",
   "execution_count": 7,
   "outputs": [],
   "source": [
    "data_dir = 'data'\n",
    "image_exts = ['jpeg','jpg','bmp','png']"
   ],
   "metadata": {
    "collapsed": false,
    "ExecuteTime": {
     "end_time": "2024-02-13T20:05:47.317438300Z",
     "start_time": "2024-02-13T20:05:47.283528300Z"
    }
   },
   "id": "395f753e54669f36"
  },
  {
   "cell_type": "code",
   "execution_count": 8,
   "outputs": [
    {
     "name": "stdout",
     "output_type": "stream",
     "text": [
      "Image not in ext list data\\happy_people\\220px-Happy_People_A_Year_in_the_Taiga_poster.jpg\n",
      "Image not in ext list data\\happy_people\\2560px-Happy_People.jpg\n",
      "Image not in ext list data\\happy_people\\427394C200000578-0-image-a-24_1500384481554.jpg\n",
      "Image not in ext list data\\happy_people\\6-Habits-Of-Happy-People.jpg\n",
      "Image not in ext list data\\happy_people\\depositphotos_391577690-stock-photo-cheerful-woman-outstretched-hands-sitting.jpg\n",
      "Image not in ext list data\\happy_people\\guilherme-stecanella-375176-unsplash.jpg\n",
      "Image not in ext list data\\happy_people\\how-to-watch-shiny-happy-people-64a2f8ea7dc3014582658-900.webp\n",
      "Image not in ext list data\\happy_people\\smiling-young-african-american-woman-260nw-2290057229.jpg\n",
      "Image not in ext list data\\happy_people\\traitshappypeople.jpg\n",
      "Image not in ext list data\\sad_people\\1cd95b44e0d785987a6596d4baf940fc19-13-sad-white-man.2x.h473.w710.jpg\n",
      "Image not in ext list data\\sad_people\\CC_HE_1221887081_SituationalDepression.jpg\n",
      "Image not in ext list data\\sad_people\\depositphotos_19568511-stock-photo-teenage-girl-looking-thoughtful-about.jpg\n",
      "Image not in ext list data\\sad_people\\depositphotos_210655610-stock-photo-sad-man-sitting-floor-home.jpg\n",
      "Image not in ext list data\\sad_people\\depressed-senior-man-looking-unhappy-260nw-1326693131.jpg\n",
      "Image not in ext list data\\sad_people\\image-sad-office-girl-asian-260nw-2122701080.jpg\n",
      "Image not in ext list data\\sad_people\\man-with-head-down.jpg\n",
      "Image not in ext list data\\sad_people\\portrait-sad-man-600nw-126009806.jpg\n",
      "Image not in ext list data\\sad_people\\Sad-man-sitting-in-bedroom-thumbnail-732x549.jpg\n",
      "Image not in ext list data\\sad_people\\sad-person-pictures-2bnso9uiwlhrikrx.jpg\n",
      "Image not in ext list data\\sad_people\\side-view-young-woman-looking-260nw-1196187574.jpg\n",
      "Image not in ext list data\\sad_people\\unhappy-frustrated-adult-african-american-260nw-2201004301.jpg\n"
     ]
    }
   ],
   "source": [
    "for image_class in os.listdir(data_dir):\n",
    "    for image in os.listdir(os.path.join(data_dir,image_class)):\n",
    "        image_path = os.path.join(data_dir,image_class,image)\n",
    "        try:\n",
    "            img = cv2.imread(image_path)\n",
    "            tip = imghdr.what(image_path)\n",
    "            if tip not in image_exts:\n",
    "                print('Image not in ext list {}'.format(image_path))\n",
    "                os.remove(image_path)\n",
    "        except Exception as e:\n",
    "            print(\"issue with image {}\".format((image_path)))"
   ],
   "metadata": {
    "collapsed": false,
    "ExecuteTime": {
     "end_time": "2024-02-13T20:07:21.243784800Z",
     "start_time": "2024-02-13T20:07:16.754793500Z"
    }
   },
   "id": "f865055c919d983b"
  },
  {
   "cell_type": "markdown",
   "source": [
    "Load Dataset"
   ],
   "metadata": {
    "collapsed": false
   },
   "id": "b1f88c8fca3952d7"
  },
  {
   "cell_type": "code",
   "execution_count": 11,
   "outputs": [],
   "source": [
    "import numpy as np\n",
    "import matplotlib.pyplot as plt"
   ],
   "metadata": {
    "collapsed": false,
    "ExecuteTime": {
     "end_time": "2024-02-13T20:19:21.498691400Z",
     "start_time": "2024-02-13T20:19:20.150355700Z"
    }
   },
   "id": "45f1d3441cf9ede2"
  },
  {
   "cell_type": "code",
   "execution_count": 12,
   "outputs": [
    {
     "name": "stdout",
     "output_type": "stream",
     "text": [
      "Found 157 files belonging to 2 classes.\n"
     ]
    }
   ],
   "source": [
    "data = tf.keras.utils.image_dataset_from_directory('data')"
   ],
   "metadata": {
    "collapsed": false,
    "ExecuteTime": {
     "end_time": "2024-02-13T20:19:57.038759700Z",
     "start_time": "2024-02-13T20:19:55.545996500Z"
    }
   },
   "id": "2c4c394b8d4ac1bc"
  },
  {
   "cell_type": "code",
   "execution_count": 13,
   "outputs": [],
   "source": [
    "data_iterator = data.as_numpy_iterator()"
   ],
   "metadata": {
    "collapsed": false,
    "ExecuteTime": {
     "end_time": "2024-02-13T20:20:24.136737300Z",
     "start_time": "2024-02-13T20:20:23.997927800Z"
    }
   },
   "id": "fafdfdb88305981b"
  },
  {
   "cell_type": "code",
   "execution_count": null,
   "outputs": [],
   "source": [
    "batch = data_iterator.next()"
   ],
   "metadata": {
    "collapsed": false
   },
   "id": "616a6dcbb9c39e0b"
  }
 ],
 "metadata": {
  "kernelspec": {
   "display_name": "Python 3",
   "language": "python",
   "name": "python3"
  },
  "language_info": {
   "codemirror_mode": {
    "name": "ipython",
    "version": 2
   },
   "file_extension": ".py",
   "mimetype": "text/x-python",
   "name": "python",
   "nbconvert_exporter": "python",
   "pygments_lexer": "ipython2",
   "version": "2.7.6"
  }
 },
 "nbformat": 4,
 "nbformat_minor": 5
}
