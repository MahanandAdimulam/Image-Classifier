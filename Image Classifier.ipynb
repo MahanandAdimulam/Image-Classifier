{
 "cells": [
  {
   "cell_type": "code",
   "execution_count": 1,
   "id": "initial_id",
   "metadata": {
    "collapsed": true,
    "ExecuteTime": {
     "end_time": "2024-02-13T23:49:02.905510400Z",
     "start_time": "2024-02-13T23:48:57.494078Z"
    }
   },
   "outputs": [],
   "source": [
    "import tensorflow as tf\n",
    "import os"
   ]
  },
  {
   "cell_type": "code",
   "execution_count": 2,
   "outputs": [],
   "source": [
    "#Avoid OOm errors by setting GPU Memory Consumption Growth\n",
    "gpus = tf.config.experimental.list_physical_devices('GPU')\n",
    "for gpu in gpus:\n",
    "    tf.config.experimental.set_memory_growth(gpu, True)"
   ],
   "metadata": {
    "collapsed": false,
    "ExecuteTime": {
     "end_time": "2024-02-13T23:49:02.919474Z",
     "start_time": "2024-02-13T23:49:02.910500100Z"
    }
   },
   "id": "4ce14e799aa8a335"
  },
  {
   "cell_type": "markdown",
   "source": [
    "# Removing dodgy images"
   ],
   "metadata": {
    "collapsed": false
   },
   "id": "7564c6139dfaceae"
  },
  {
   "cell_type": "code",
   "execution_count": 3,
   "outputs": [],
   "source": [
    "import cv2\n",
    "import imghdr"
   ],
   "metadata": {
    "collapsed": false,
    "ExecuteTime": {
     "end_time": "2024-02-13T23:49:02.983300100Z",
     "start_time": "2024-02-13T23:49:02.924458300Z"
    }
   },
   "id": "ca6601c89b5b26e6"
  },
  {
   "cell_type": "code",
   "execution_count": 4,
   "outputs": [],
   "source": [
    "data_dir = 'data'\n",
    "image_exts = ['jpeg','jpg','bmp','png']"
   ],
   "metadata": {
    "collapsed": false,
    "ExecuteTime": {
     "end_time": "2024-02-13T23:49:03.009232Z",
     "start_time": "2024-02-13T23:49:02.986294100Z"
    }
   },
   "id": "395f753e54669f36"
  },
  {
   "cell_type": "code",
   "execution_count": 5,
   "outputs": [],
   "source": [
    "for image_class in os.listdir(data_dir):\n",
    "    for image in os.listdir(os.path.join(data_dir,image_class)):\n",
    "        image_path = os.path.join(data_dir,image_class,image)\n",
    "        try:\n",
    "            img = cv2.imread(image_path)\n",
    "            tip = imghdr.what(image_path)\n",
    "            if tip not in image_exts:\n",
    "                print('Image not in ext list {}'.format(image_path))\n",
    "                os.remove(image_path)\n",
    "        except Exception as e:\n",
    "            print(\"issue with image {}\".format((image_path)))"
   ],
   "metadata": {
    "collapsed": false,
    "ExecuteTime": {
     "end_time": "2024-02-13T23:49:09.961020600Z",
     "start_time": "2024-02-13T23:49:03.005241500Z"
    }
   },
   "id": "f865055c919d983b"
  },
  {
   "cell_type": "markdown",
   "source": [
    "# Loading the dataset"
   ],
   "metadata": {
    "collapsed": false
   },
   "id": "b1f88c8fca3952d7"
  },
  {
   "cell_type": "code",
   "execution_count": 6,
   "outputs": [],
   "source": [
    "import numpy as np\n",
    "import matplotlib.pyplot as plt"
   ],
   "metadata": {
    "collapsed": false,
    "ExecuteTime": {
     "end_time": "2024-02-13T23:49:10.637940300Z",
     "start_time": "2024-02-13T23:49:09.965013500Z"
    }
   },
   "id": "45f1d3441cf9ede2"
  },
  {
   "cell_type": "code",
   "execution_count": 7,
   "outputs": [
    {
     "name": "stdout",
     "output_type": "stream",
     "text": [
      "Found 157 files belonging to 2 classes.\n"
     ]
    }
   ],
   "source": [
    "data = tf.keras.utils.image_dataset_from_directory('data')"
   ],
   "metadata": {
    "collapsed": false,
    "ExecuteTime": {
     "end_time": "2024-02-13T23:49:10.810621900Z",
     "start_time": "2024-02-13T23:49:10.642861800Z"
    }
   },
   "id": "2c4c394b8d4ac1bc"
  },
  {
   "cell_type": "code",
   "execution_count": 8,
   "outputs": [],
   "source": [
    "data_iterator = data.as_numpy_iterator()"
   ],
   "metadata": {
    "collapsed": false,
    "ExecuteTime": {
     "end_time": "2024-02-13T23:49:10.876477Z",
     "start_time": "2024-02-13T23:49:10.814611400Z"
    }
   },
   "id": "fafdfdb88305981b"
  },
  {
   "cell_type": "code",
   "execution_count": 9,
   "outputs": [],
   "source": [
    "batch = data_iterator.next()"
   ],
   "metadata": {
    "collapsed": false,
    "ExecuteTime": {
     "end_time": "2024-02-13T23:49:12.167609800Z",
     "start_time": "2024-02-13T23:49:10.844535600Z"
    }
   },
   "id": "616a6dcbb9c39e0b"
  },
  {
   "cell_type": "code",
   "execution_count": 10,
   "outputs": [
    {
     "data": {
      "text/plain": "(32, 256, 256, 3)"
     },
     "execution_count": 10,
     "metadata": {},
     "output_type": "execute_result"
    }
   ],
   "source": [
    "#Images represented as numpy arrays\n",
    "batch[0].shape"
   ],
   "metadata": {
    "collapsed": false,
    "ExecuteTime": {
     "end_time": "2024-02-13T23:49:12.241455500Z",
     "start_time": "2024-02-13T23:49:12.171596900Z"
    }
   },
   "id": "bc1d116c05e00ac4"
  },
  {
   "cell_type": "code",
   "execution_count": 11,
   "outputs": [
    {
     "data": {
      "text/plain": "array([1, 1, 0, 0, 0, 0, 1, 1, 1, 1, 1, 1, 0, 0, 1, 1, 0, 1, 0, 1, 1, 0,\n       1, 0, 0, 0, 0, 1, 0, 1, 1, 1])"
     },
     "execution_count": 11,
     "metadata": {},
     "output_type": "execute_result"
    }
   ],
   "source": [
    "#Image labels\n",
    "batch[1]"
   ],
   "metadata": {
    "collapsed": false,
    "ExecuteTime": {
     "end_time": "2024-02-13T23:49:12.243451600Z",
     "start_time": "2024-02-13T23:49:12.201539Z"
    }
   },
   "id": "1bc0d447438d9359"
  },
  {
   "cell_type": "markdown",
   "source": [
    "# 2. Preprocesing the data"
   ],
   "metadata": {
    "collapsed": false
   },
   "id": "8b4107e15ca0120f"
  },
  {
   "cell_type": "markdown",
   "source": [
    "## 2.1 Scale Data"
   ],
   "metadata": {
    "collapsed": false
   },
   "id": "143cf78806f5fd32"
  },
  {
   "cell_type": "code",
   "execution_count": 12,
   "outputs": [],
   "source": [
    "data = data.map(lambda x,y :(x/255,y))"
   ],
   "metadata": {
    "collapsed": false,
    "ExecuteTime": {
     "end_time": "2024-02-13T23:49:12.309760800Z",
     "start_time": "2024-02-13T23:49:12.217495400Z"
    }
   },
   "id": "3090aed2df6e370f"
  },
  {
   "cell_type": "code",
   "execution_count": 13,
   "outputs": [],
   "source": [
    "scaled_iterator = data.as_numpy_iterator()"
   ],
   "metadata": {
    "collapsed": false,
    "ExecuteTime": {
     "end_time": "2024-02-13T23:49:12.335479800Z",
     "start_time": "2024-02-13T23:49:12.278254600Z"
    }
   },
   "id": "859147e3ee888b7f"
  },
  {
   "cell_type": "code",
   "execution_count": 14,
   "outputs": [],
   "source": [
    "batch = scaled_iterator.next()"
   ],
   "metadata": {
    "collapsed": false,
    "ExecuteTime": {
     "end_time": "2024-02-13T23:49:13.767226200Z",
     "start_time": "2024-02-13T23:49:12.337477300Z"
    }
   },
   "id": "229bff14f10b5f86"
  },
  {
   "cell_type": "markdown",
   "source": [
    "## 2.2 Split the data"
   ],
   "metadata": {
    "collapsed": false
   },
   "id": "8d211508c5aadec8"
  },
  {
   "cell_type": "code",
   "execution_count": 15,
   "outputs": [],
   "source": [
    "train_size = int(len(data)*.7)\n",
    "val_size = int(len(data)*.2)\n",
    "test_size = int(len(data)*.1)"
   ],
   "metadata": {
    "collapsed": false,
    "ExecuteTime": {
     "end_time": "2024-02-13T23:49:13.782699700Z",
     "start_time": "2024-02-13T23:49:13.768224500Z"
    }
   },
   "id": "7280feb377361f47"
  },
  {
   "cell_type": "code",
   "execution_count": 16,
   "outputs": [],
   "source": [
    "train = data.take(train_size)\n",
    "val = data.skip(train_size).take(val_size)\n",
    "test = data.skip(train_size).skip(val_size).take(test_size)"
   ],
   "metadata": {
    "collapsed": false,
    "ExecuteTime": {
     "end_time": "2024-02-13T23:49:13.832568400Z",
     "start_time": "2024-02-13T23:49:13.788704100Z"
    }
   },
   "id": "80469e4bfd67e3c6"
  },
  {
   "cell_type": "markdown",
   "source": [
    "# 3. Deep Learning Model"
   ],
   "metadata": {
    "collapsed": false
   },
   "id": "c6069c68ac491a18"
  },
  {
   "cell_type": "markdown",
   "source": [
    "## 3.1 Building the deep learning model"
   ],
   "metadata": {
    "collapsed": false
   },
   "id": "367c075520628dcb"
  },
  {
   "cell_type": "code",
   "execution_count": 17,
   "outputs": [],
   "source": [
    "from tensorflow.keras.models import Sequential\n",
    "from tensorflow.keras.layers import Conv2D, MaxPooling2D, Dense, Flatten, Dropout"
   ],
   "metadata": {
    "collapsed": false,
    "ExecuteTime": {
     "end_time": "2024-02-13T23:49:13.859495200Z",
     "start_time": "2024-02-13T23:49:13.820598300Z"
    }
   },
   "id": "db90b27aee9ebe90"
  },
  {
   "cell_type": "code",
   "execution_count": 18,
   "outputs": [],
   "source": [
    "model = Sequential()\n",
    "model.add(Conv2D(16, (3,3), 1, activation='relu', input_shape=(256,256,3)))\n",
    "model.add(MaxPooling2D())\n",
    "\n",
    "model.add(Conv2D(32, (3,3), 1, activation='relu'))\n",
    "model.add(MaxPooling2D())\n",
    "\n",
    "model.add(Conv2D(16, (3,3), 1, activation='relu'))\n",
    "model.add(MaxPooling2D())\n",
    "\n",
    "model.add(Flatten())\n",
    "\n",
    "model.add(Dense(256, activation='relu'))\n",
    "model.add(Dense(1, activation='sigmoid'))"
   ],
   "metadata": {
    "collapsed": false,
    "ExecuteTime": {
     "end_time": "2024-02-13T23:49:14.136514100Z",
     "start_time": "2024-02-13T23:49:13.864484900Z"
    }
   },
   "id": "cfa18e37d3d8e8c9"
  },
  {
   "cell_type": "code",
   "execution_count": 19,
   "outputs": [],
   "source": [
    "model.compile('adam', loss=tf.losses.BinaryCrossentropy(), metrics=['accuracy'])"
   ],
   "metadata": {
    "collapsed": false,
    "ExecuteTime": {
     "end_time": "2024-02-13T23:49:14.180397800Z",
     "start_time": "2024-02-13T23:49:14.141500900Z"
    }
   },
   "id": "47813b72d2358922"
  },
  {
   "cell_type": "code",
   "execution_count": 20,
   "outputs": [
    {
     "name": "stdout",
     "output_type": "stream",
     "text": [
      "Model: \"sequential\"\n",
      "_________________________________________________________________\n",
      " Layer (type)                Output Shape              Param #   \n",
      "=================================================================\n",
      " conv2d (Conv2D)             (None, 254, 254, 16)      448       \n",
      "                                                                 \n",
      " max_pooling2d (MaxPooling2D  (None, 127, 127, 16)     0         \n",
      " )                                                               \n",
      "                                                                 \n",
      " conv2d_1 (Conv2D)           (None, 125, 125, 32)      4640      \n",
      "                                                                 \n",
      " max_pooling2d_1 (MaxPooling  (None, 62, 62, 32)       0         \n",
      " 2D)                                                             \n",
      "                                                                 \n",
      " conv2d_2 (Conv2D)           (None, 60, 60, 16)        4624      \n",
      "                                                                 \n",
      " max_pooling2d_2 (MaxPooling  (None, 30, 30, 16)       0         \n",
      " 2D)                                                             \n",
      "                                                                 \n",
      " flatten (Flatten)           (None, 14400)             0         \n",
      "                                                                 \n",
      " dense (Dense)               (None, 256)               3686656   \n",
      "                                                                 \n",
      " dense_1 (Dense)             (None, 1)                 257       \n",
      "                                                                 \n",
      "=================================================================\n",
      "Total params: 3,696,625\n",
      "Trainable params: 3,696,625\n",
      "Non-trainable params: 0\n",
      "_________________________________________________________________\n"
     ]
    }
   ],
   "source": [
    "model.summary()"
   ],
   "metadata": {
    "collapsed": false,
    "ExecuteTime": {
     "end_time": "2024-02-13T23:49:14.347062800Z",
     "start_time": "2024-02-13T23:49:14.172418600Z"
    }
   },
   "id": "ff4bc9d150dd97ed"
  },
  {
   "cell_type": "markdown",
   "source": [
    "## 3.2 Training the model"
   ],
   "metadata": {
    "collapsed": false
   },
   "id": "3874b5eee6847492"
  },
  {
   "cell_type": "code",
   "execution_count": 21,
   "outputs": [],
   "source": [
    "logdir='logs'"
   ],
   "metadata": {
    "collapsed": false,
    "ExecuteTime": {
     "end_time": "2024-02-13T23:49:14.352050500Z",
     "start_time": "2024-02-13T23:49:14.238905500Z"
    }
   },
   "id": "247643c2b06c314a"
  },
  {
   "cell_type": "code",
   "execution_count": 22,
   "outputs": [],
   "source": [
    "tensorboard_callback = tf.keras.callbacks.TensorBoard(log_dir=logdir)"
   ],
   "metadata": {
    "collapsed": false,
    "ExecuteTime": {
     "end_time": "2024-02-13T23:49:14.366014900Z",
     "start_time": "2024-02-13T23:49:14.245881500Z"
    }
   },
   "id": "6fe6d287d9daacda"
  },
  {
   "cell_type": "code",
   "execution_count": 23,
   "outputs": [
    {
     "name": "stdout",
     "output_type": "stream",
     "text": [
      "Epoch 1/20\n",
      "3/3 [==============================] - 9s 2s/step - loss: 1.1402 - accuracy: 0.5521 - val_loss: 1.0236 - val_accuracy: 0.4062\n",
      "Epoch 2/20\n",
      "3/3 [==============================] - 5s 1s/step - loss: 0.7974 - accuracy: 0.5000 - val_loss: 0.5475 - val_accuracy: 0.6562\n",
      "Epoch 3/20\n",
      "3/3 [==============================] - 5s 2s/step - loss: 0.5830 - accuracy: 0.6042 - val_loss: 0.5514 - val_accuracy: 0.6250\n",
      "Epoch 4/20\n",
      "3/3 [==============================] - 6s 2s/step - loss: 0.5643 - accuracy: 0.7083 - val_loss: 0.4748 - val_accuracy: 0.8125\n",
      "Epoch 5/20\n",
      "3/3 [==============================] - 5s 2s/step - loss: 0.5183 - accuracy: 0.8438 - val_loss: 0.5502 - val_accuracy: 0.8125\n",
      "Epoch 6/20\n",
      "3/3 [==============================] - 6s 2s/step - loss: 0.4325 - accuracy: 0.8333 - val_loss: 0.4708 - val_accuracy: 0.7812\n",
      "Epoch 7/20\n",
      "3/3 [==============================] - 6s 2s/step - loss: 0.4508 - accuracy: 0.8229 - val_loss: 0.4824 - val_accuracy: 0.7812\n",
      "Epoch 8/20\n",
      "3/3 [==============================] - 6s 2s/step - loss: 0.3856 - accuracy: 0.8542 - val_loss: 0.3223 - val_accuracy: 0.8750\n",
      "Epoch 9/20\n",
      "3/3 [==============================] - 5s 1s/step - loss: 0.3432 - accuracy: 0.8646 - val_loss: 0.3233 - val_accuracy: 0.8750\n",
      "Epoch 10/20\n",
      "3/3 [==============================] - 5s 2s/step - loss: 0.3194 - accuracy: 0.9062 - val_loss: 0.2509 - val_accuracy: 0.9688\n",
      "Epoch 11/20\n",
      "3/3 [==============================] - 5s 2s/step - loss: 0.2671 - accuracy: 0.9167 - val_loss: 0.2929 - val_accuracy: 0.9375\n",
      "Epoch 12/20\n",
      "3/3 [==============================] - 5s 1s/step - loss: 0.2391 - accuracy: 0.9167 - val_loss: 0.2371 - val_accuracy: 0.9062\n",
      "Epoch 13/20\n",
      "3/3 [==============================] - 7s 2s/step - loss: 0.2114 - accuracy: 0.9271 - val_loss: 0.2419 - val_accuracy: 0.8750\n",
      "Epoch 14/20\n",
      "3/3 [==============================] - 6s 2s/step - loss: 0.1615 - accuracy: 0.9479 - val_loss: 0.2304 - val_accuracy: 0.9375\n",
      "Epoch 15/20\n",
      "3/3 [==============================] - 7s 2s/step - loss: 0.1280 - accuracy: 0.9688 - val_loss: 0.0965 - val_accuracy: 0.9688\n",
      "Epoch 16/20\n",
      "3/3 [==============================] - 6s 2s/step - loss: 0.1167 - accuracy: 0.9479 - val_loss: 0.1600 - val_accuracy: 0.9062\n",
      "Epoch 17/20\n",
      "3/3 [==============================] - 6s 2s/step - loss: 0.1329 - accuracy: 0.9583 - val_loss: 0.1307 - val_accuracy: 0.9375\n",
      "Epoch 18/20\n",
      "3/3 [==============================] - 6s 2s/step - loss: 0.1191 - accuracy: 0.9479 - val_loss: 0.0425 - val_accuracy: 1.0000\n",
      "Epoch 19/20\n",
      "3/3 [==============================] - 5s 2s/step - loss: 0.0637 - accuracy: 0.9688 - val_loss: 0.0579 - val_accuracy: 1.0000\n",
      "Epoch 20/20\n",
      "3/3 [==============================] - 7s 2s/step - loss: 0.1235 - accuracy: 0.9896 - val_loss: 0.0731 - val_accuracy: 0.9688\n"
     ]
    }
   ],
   "source": [
    "hist = model.fit(train, epochs=20, validation_data=val, callbacks=[tensorboard_callback])"
   ],
   "metadata": {
    "collapsed": false,
    "ExecuteTime": {
     "end_time": "2024-02-13T23:51:13.487690200Z",
     "start_time": "2024-02-13T23:49:14.253861500Z"
    }
   },
   "id": "34bf8953f49fab1c"
  },
  {
   "cell_type": "markdown",
   "source": [
    "## 3.3 Performance Plot"
   ],
   "metadata": {
    "collapsed": false
   },
   "id": "dfb8594fabdd5122"
  },
  {
   "cell_type": "markdown",
   "source": [
    "fig = plt.figure()\n",
    "plt.plot(hist.history['loss'], color='teal', label='loss')\n",
    "plt.plot(hist.history['val_loss'], color='orange', label='val_loss')\n",
    "fig.suptitle('Loss', fontsize=20)\n",
    "plt.legend(loc=\"upper left\")\n",
    "plt.show()"
   ],
   "metadata": {
    "collapsed": false
   },
   "id": "394b6e587a605af5"
  },
  {
   "cell_type": "markdown",
   "source": [
    "fig = plt.figure()\n",
    "plt.plot(hist.history['accuracy'], color='teal', label='accuracy')\n",
    "plt.plot(hist.history['val_accuracy'], color='orange', label='val_accuracy')\n",
    "fig.suptitle('Accuracy', fontsize=20)\n",
    "plt.legend(loc=\"upper left\")\n",
    "plt.show()"
   ],
   "metadata": {
    "collapsed": false
   },
   "id": "59992c5315434cac"
  },
  {
   "cell_type": "markdown",
   "source": [
    "# Evaluate Performance"
   ],
   "metadata": {
    "collapsed": false
   },
   "id": "aa1a295961a77de0"
  },
  {
   "cell_type": "code",
   "execution_count": 24,
   "outputs": [],
   "source": [
    "from tensorflow.keras.metrics import Precision, Recall, BinaryAccuracy"
   ],
   "metadata": {
    "collapsed": false,
    "ExecuteTime": {
     "end_time": "2024-02-13T23:51:13.555032700Z",
     "start_time": "2024-02-13T23:51:13.496667400Z"
    }
   },
   "id": "a927e964f24c87c7"
  },
  {
   "cell_type": "code",
   "execution_count": 25,
   "outputs": [],
   "source": [
    "pre = Precision()\n",
    "re = Recall()\n",
    "acc = BinaryAccuracy()"
   ],
   "metadata": {
    "collapsed": false,
    "ExecuteTime": {
     "end_time": "2024-02-13T23:51:13.586946700Z",
     "start_time": "2024-02-13T23:51:13.524117800Z"
    }
   },
   "id": "b0b5e5f0f8b34350"
  },
  {
   "cell_type": "code",
   "execution_count": 26,
   "outputs": [],
   "source": [
    "for batch in test.as_numpy_iterator():\n",
    "    X, y = batch\n",
    "    yhat = model.predict(X)\n",
    "    pre.update_state(y, yhat)\n",
    "    re.update_state(y, yhat)\n",
    "    acc.update_state(y, yhat)"
   ],
   "metadata": {
    "collapsed": false,
    "ExecuteTime": {
     "end_time": "2024-02-13T23:51:13.674471900Z",
     "start_time": "2024-02-13T23:51:13.590936100Z"
    }
   },
   "id": "f592749f65cdcea8"
  },
  {
   "cell_type": "code",
   "execution_count": 27,
   "outputs": [
    {
     "name": "stdout",
     "output_type": "stream",
     "text": [
      "Precision: 0.0, Recall: 0.0, Accuracy: 0.0\n"
     ]
    }
   ],
   "source": [
    "print(f'Precision: {pre.result().numpy()}, Recall: {re.result().numpy()}, Accuracy: {acc.result().numpy()}')"
   ],
   "metadata": {
    "collapsed": false,
    "ExecuteTime": {
     "end_time": "2024-02-13T23:51:13.717360400Z",
     "start_time": "2024-02-13T23:51:13.664340100Z"
    }
   },
   "id": "c1561d5eb84d2c88"
  },
  {
   "cell_type": "markdown",
   "source": [
    "## Test"
   ],
   "metadata": {
    "collapsed": false
   },
   "id": "78c5d075dd913329"
  },
  {
   "cell_type": "code",
   "execution_count": 28,
   "outputs": [],
   "source": [
    "img = cv2.imread('test_happy.jpeg')\n",
    "# plt.imshow(img)\n",
    "# plt.show()"
   ],
   "metadata": {
    "collapsed": false,
    "ExecuteTime": {
     "end_time": "2024-02-13T23:51:13.818091800Z",
     "start_time": "2024-02-13T23:51:13.712371400Z"
    }
   },
   "id": "cf6d99c0ac66a174"
  },
  {
   "cell_type": "code",
   "execution_count": 29,
   "outputs": [],
   "source": [
    "resize = tf.image.resize(img, (256,256))\n",
    "# plt.imshow(resize.numpy().astype(int))\n",
    "# plt.show()"
   ],
   "metadata": {
    "collapsed": false,
    "ExecuteTime": {
     "end_time": "2024-02-13T23:51:13.835045Z",
     "start_time": "2024-02-13T23:51:13.744286600Z"
    }
   },
   "id": "b333cfeae8766997"
  },
  {
   "cell_type": "code",
   "execution_count": 30,
   "outputs": [
    {
     "data": {
      "text/plain": "TensorShape([256, 256, 3])"
     },
     "execution_count": 30,
     "metadata": {},
     "output_type": "execute_result"
    }
   ],
   "source": [
    "resize.shape"
   ],
   "metadata": {
    "collapsed": false,
    "ExecuteTime": {
     "end_time": "2024-02-13T23:51:13.836041700Z",
     "start_time": "2024-02-13T23:51:13.785178100Z"
    }
   },
   "id": "2727bda2884ea9f7"
  },
  {
   "cell_type": "code",
   "execution_count": 31,
   "outputs": [
    {
     "data": {
      "text/plain": "(1, 256, 256, 3)"
     },
     "execution_count": 31,
     "metadata": {},
     "output_type": "execute_result"
    }
   ],
   "source": [
    "import numpy as np\n",
    "np.expand_dims(resize/255, 0).shape"
   ],
   "metadata": {
    "collapsed": false,
    "ExecuteTime": {
     "end_time": "2024-02-13T23:51:13.889895200Z",
     "start_time": "2024-02-13T23:51:13.819204800Z"
    }
   },
   "id": "a10c5aa8a80ec6e9"
  },
  {
   "cell_type": "code",
   "execution_count": 32,
   "outputs": [
    {
     "name": "stdout",
     "output_type": "stream",
     "text": [
      "1/1 [==============================] - 1s 573ms/step\n"
     ]
    }
   ],
   "source": [
    "yhat = model.predict(np.expand_dims(resize/255, 0))"
   ],
   "metadata": {
    "collapsed": false,
    "ExecuteTime": {
     "end_time": "2024-02-13T23:51:14.638961Z",
     "start_time": "2024-02-13T23:51:13.851002Z"
    }
   },
   "id": "38a1439d75e0963d"
  },
  {
   "cell_type": "code",
   "execution_count": 33,
   "outputs": [
    {
     "data": {
      "text/plain": "array([[0.44151324]], dtype=float32)"
     },
     "execution_count": 33,
     "metadata": {},
     "output_type": "execute_result"
    }
   ],
   "source": [
    "yhat"
   ],
   "metadata": {
    "collapsed": false,
    "ExecuteTime": {
     "end_time": "2024-02-13T23:51:14.750661Z",
     "start_time": "2024-02-13T23:51:14.649932600Z"
    }
   },
   "id": "b7a43b18afb8613e"
  },
  {
   "cell_type": "code",
   "execution_count": 34,
   "outputs": [
    {
     "name": "stdout",
     "output_type": "stream",
     "text": [
      "Predicted class is Happy\n"
     ]
    }
   ],
   "source": [
    "if yhat > 0.5:\n",
    "    print(f'Predicted class is Sad')\n",
    "else:\n",
    "    print(f'Predicted class is Happy')"
   ],
   "metadata": {
    "collapsed": false,
    "ExecuteTime": {
     "end_time": "2024-02-13T23:52:12.016442600Z",
     "start_time": "2024-02-13T23:52:11.943879300Z"
    }
   },
   "id": "1f913cbcc25c7186"
  },
  {
   "cell_type": "markdown",
   "source": [
    "# 5. Save the Model"
   ],
   "metadata": {
    "collapsed": false
   },
   "id": "87bfff5ec7689f30"
  },
  {
   "cell_type": "code",
   "execution_count": null,
   "outputs": [],
   "source": [],
   "metadata": {
    "collapsed": false
   },
   "id": "4987f3051c6610aa"
  }
 ],
 "metadata": {
  "kernelspec": {
   "display_name": "Python 3",
   "language": "python",
   "name": "python3"
  },
  "language_info": {
   "codemirror_mode": {
    "name": "ipython",
    "version": 2
   },
   "file_extension": ".py",
   "mimetype": "text/x-python",
   "name": "python",
   "nbconvert_exporter": "python",
   "pygments_lexer": "ipython2",
   "version": "2.7.6"
  }
 },
 "nbformat": 4,
 "nbformat_minor": 5
}
