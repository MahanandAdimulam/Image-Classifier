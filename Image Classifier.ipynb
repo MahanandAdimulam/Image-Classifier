{
 "cells": [
  {
   "cell_type": "code",
   "execution_count": 1,
   "id": "initial_id",
   "metadata": {
    "collapsed": true,
    "ExecuteTime": {
     "end_time": "2024-02-13T22:14:06.264289800Z",
     "start_time": "2024-02-13T22:14:00.062880400Z"
    }
   },
   "outputs": [],
   "source": [
    "import tensorflow as tf\n",
    "import os"
   ]
  },
  {
   "cell_type": "code",
   "execution_count": 2,
   "outputs": [],
   "source": [
    "#Avoid OOm errors by setting GPU Memory Consumption Growth\n",
    "gpus = tf.config.experimental.list_physical_devices('GPU')\n",
    "for gpu in gpus:\n",
    "    tf.config.experimental.set_memory_growth(gpu, True)"
   ],
   "metadata": {
    "collapsed": false,
    "ExecuteTime": {
     "end_time": "2024-02-13T22:14:06.282242Z",
     "start_time": "2024-02-13T22:14:06.272268400Z"
    }
   },
   "id": "4ce14e799aa8a335"
  },
  {
   "cell_type": "markdown",
   "source": [
    "# Removing dodgy images"
   ],
   "metadata": {
    "collapsed": false
   },
   "id": "7564c6139dfaceae"
  },
  {
   "cell_type": "code",
   "execution_count": 3,
   "outputs": [],
   "source": [
    "import cv2\n",
    "import imghdr"
   ],
   "metadata": {
    "collapsed": false,
    "ExecuteTime": {
     "end_time": "2024-02-13T22:14:06.342080400Z",
     "start_time": "2024-02-13T22:14:06.282242Z"
    }
   },
   "id": "ca6601c89b5b26e6"
  },
  {
   "cell_type": "code",
   "execution_count": 4,
   "outputs": [],
   "source": [
    "data_dir = 'data'\n",
    "image_exts = ['jpeg','jpg','bmp','png']"
   ],
   "metadata": {
    "collapsed": false,
    "ExecuteTime": {
     "end_time": "2024-02-13T22:14:06.357047300Z",
     "start_time": "2024-02-13T22:14:06.349063Z"
    }
   },
   "id": "395f753e54669f36"
  },
  {
   "cell_type": "code",
   "execution_count": 5,
   "outputs": [],
   "source": [
    "for image_class in os.listdir(data_dir):\n",
    "    for image in os.listdir(os.path.join(data_dir,image_class)):\n",
    "        image_path = os.path.join(data_dir,image_class,image)\n",
    "        try:\n",
    "            img = cv2.imread(image_path)\n",
    "            tip = imghdr.what(image_path)\n",
    "            if tip not in image_exts:\n",
    "                print('Image not in ext list {}'.format(image_path))\n",
    "                os.remove(image_path)\n",
    "        except Exception as e:\n",
    "            print(\"issue with image {}\".format((image_path)))"
   ],
   "metadata": {
    "collapsed": false,
    "ExecuteTime": {
     "end_time": "2024-02-13T22:14:11.221028400Z",
     "start_time": "2024-02-13T22:14:06.365020400Z"
    }
   },
   "id": "f865055c919d983b"
  },
  {
   "cell_type": "markdown",
   "source": [
    "# Loading the dataset"
   ],
   "metadata": {
    "collapsed": false
   },
   "id": "b1f88c8fca3952d7"
  },
  {
   "cell_type": "code",
   "execution_count": 6,
   "outputs": [],
   "source": [
    "import numpy as np\n",
    "import matplotlib.pyplot as plt"
   ],
   "metadata": {
    "collapsed": false,
    "ExecuteTime": {
     "end_time": "2024-02-13T22:14:11.898218200Z",
     "start_time": "2024-02-13T22:14:11.225017400Z"
    }
   },
   "id": "45f1d3441cf9ede2"
  },
  {
   "cell_type": "code",
   "execution_count": 7,
   "outputs": [
    {
     "name": "stdout",
     "output_type": "stream",
     "text": [
      "Found 157 files belonging to 2 classes.\n"
     ]
    }
   ],
   "source": [
    "data = tf.keras.utils.image_dataset_from_directory('data')"
   ],
   "metadata": {
    "collapsed": false,
    "ExecuteTime": {
     "end_time": "2024-02-13T22:14:12.056793100Z",
     "start_time": "2024-02-13T22:14:11.904203100Z"
    }
   },
   "id": "2c4c394b8d4ac1bc"
  },
  {
   "cell_type": "code",
   "execution_count": 8,
   "outputs": [],
   "source": [
    "data_iterator = data.as_numpy_iterator()"
   ],
   "metadata": {
    "collapsed": false,
    "ExecuteTime": {
     "end_time": "2024-02-13T22:14:12.131592200Z",
     "start_time": "2024-02-13T22:14:12.062776300Z"
    }
   },
   "id": "fafdfdb88305981b"
  },
  {
   "cell_type": "code",
   "execution_count": 9,
   "outputs": [],
   "source": [
    "batch = data_iterator.next()"
   ],
   "metadata": {
    "collapsed": false,
    "ExecuteTime": {
     "end_time": "2024-02-13T22:14:12.553464900Z",
     "start_time": "2024-02-13T22:14:12.091699800Z"
    }
   },
   "id": "616a6dcbb9c39e0b"
  },
  {
   "cell_type": "code",
   "execution_count": 10,
   "outputs": [
    {
     "data": {
      "text/plain": "(8, 256, 256, 3)"
     },
     "execution_count": 10,
     "metadata": {},
     "output_type": "execute_result"
    }
   ],
   "source": [
    "#Images represented as numpy arrays\n",
    "batch[0].shape"
   ],
   "metadata": {
    "collapsed": false,
    "ExecuteTime": {
     "end_time": "2024-02-13T22:14:12.624274500Z",
     "start_time": "2024-02-13T22:14:12.554462300Z"
    }
   },
   "id": "bc1d116c05e00ac4"
  },
  {
   "cell_type": "code",
   "execution_count": 11,
   "outputs": [
    {
     "data": {
      "text/plain": "array([0, 1, 0, 0, 1, 1, 0, 1])"
     },
     "execution_count": 11,
     "metadata": {},
     "output_type": "execute_result"
    }
   ],
   "source": [
    "#Image labels\n",
    "batch[1]"
   ],
   "metadata": {
    "collapsed": false,
    "ExecuteTime": {
     "end_time": "2024-02-13T22:14:12.649209700Z",
     "start_time": "2024-02-13T22:14:12.594355100Z"
    }
   },
   "id": "1bc0d447438d9359"
  },
  {
   "cell_type": "markdown",
   "source": [
    "# 2. Preprocesing the data"
   ],
   "metadata": {
    "collapsed": false
   },
   "id": "8b4107e15ca0120f"
  },
  {
   "cell_type": "markdown",
   "source": [
    "## 2.1 Scale Data"
   ],
   "metadata": {
    "collapsed": false
   },
   "id": "143cf78806f5fd32"
  },
  {
   "cell_type": "code",
   "execution_count": 12,
   "outputs": [],
   "source": [
    "data = data.map(lambda x,y :(x/255,y))"
   ],
   "metadata": {
    "collapsed": false,
    "ExecuteTime": {
     "end_time": "2024-02-13T22:14:12.722016Z",
     "start_time": "2024-02-13T22:14:12.620286500Z"
    }
   },
   "id": "3090aed2df6e370f"
  },
  {
   "cell_type": "code",
   "execution_count": 13,
   "outputs": [],
   "source": [
    "scaled_iterator = data.as_numpy_iterator()"
   ],
   "metadata": {
    "collapsed": false,
    "ExecuteTime": {
     "end_time": "2024-02-13T22:14:12.768888700Z",
     "start_time": "2024-02-13T22:14:12.713039700Z"
    }
   },
   "id": "859147e3ee888b7f"
  },
  {
   "cell_type": "code",
   "execution_count": 14,
   "outputs": [],
   "source": [
    "batch = scaled_iterator.next()"
   ],
   "metadata": {
    "collapsed": false,
    "ExecuteTime": {
     "end_time": "2024-02-13T22:14:13.224668300Z",
     "start_time": "2024-02-13T22:14:12.778863400Z"
    }
   },
   "id": "229bff14f10b5f86"
  },
  {
   "cell_type": "markdown",
   "source": [
    "## 2.2 Split the data"
   ],
   "metadata": {
    "collapsed": false
   },
   "id": "8d211508c5aadec8"
  },
  {
   "cell_type": "code",
   "execution_count": 16,
   "outputs": [],
   "source": [
    "train_size = int(len(data)*.7)\n",
    "val_size = int(len(data)*.2)\n",
    "test_size = int(len(data)*.1)"
   ],
   "metadata": {
    "collapsed": false,
    "ExecuteTime": {
     "end_time": "2024-02-13T22:14:31.077481600Z",
     "start_time": "2024-02-13T22:14:31.037590600Z"
    }
   },
   "id": "7280feb377361f47"
  },
  {
   "cell_type": "code",
   "execution_count": 20,
   "outputs": [],
   "source": [
    "train = data.take(train_size)\n",
    "val = data.skip(train_size).take(val_size)\n",
    "test = data.skip(train_size).skip(val_size).take(test_size)"
   ],
   "metadata": {
    "collapsed": false,
    "ExecuteTime": {
     "end_time": "2024-02-13T22:24:51.075348400Z",
     "start_time": "2024-02-13T22:24:51.017241200Z"
    }
   },
   "id": "80469e4bfd67e3c6"
  },
  {
   "cell_type": "markdown",
   "source": [
    "# 3. Deep Learning Model"
   ],
   "metadata": {
    "collapsed": false
   },
   "id": "c6069c68ac491a18"
  },
  {
   "cell_type": "markdown",
   "source": [
    "##3.1 Building the deep learning model"
   ],
   "metadata": {
    "collapsed": false
   },
   "id": "367c075520628dcb"
  },
  {
   "cell_type": "code",
   "execution_count": 21,
   "outputs": [],
   "source": [
    "from tensorflow.keras.models import Sequential\n",
    "from tensorflow.keras.layers import Conv2D, MaxPooling2D, Dense, Flatten, Dropout"
   ],
   "metadata": {
    "collapsed": false,
    "ExecuteTime": {
     "end_time": "2024-02-13T22:29:45.971662200Z",
     "start_time": "2024-02-13T22:29:45.914846500Z"
    }
   },
   "id": "db90b27aee9ebe90"
  },
  {
   "cell_type": "code",
   "execution_count": 24,
   "outputs": [],
   "source": [
    "model = Sequential()\n",
    "model.add(Conv2D(16, (3,3), 1, activation='relu', input_shape=(256,256,3)))\n",
    "model.add(MaxPooling2D())\n",
    "\n",
    "model.add(Conv2D(32, (3,3), 1, activation='relu'))\n",
    "model.add(MaxPooling2D())\n",
    "\n",
    "model.add(Conv2D(16, (3,3), 1, activation='relu'))\n",
    "model.add(MaxPooling2D())\n",
    "\n",
    "model.add(Flatten())\n",
    "\n",
    "model.add(Dense(256, activation='relu'))\n",
    "model.add(Dense(1, activation='sigmoid'))"
   ],
   "metadata": {
    "collapsed": false,
    "ExecuteTime": {
     "end_time": "2024-02-13T23:05:46.380060200Z",
     "start_time": "2024-02-13T23:05:46.204529900Z"
    }
   },
   "id": "cfa18e37d3d8e8c9"
  },
  {
   "cell_type": "code",
   "execution_count": null,
   "outputs": [],
   "source": [],
   "metadata": {
    "collapsed": false
   },
   "id": "47813b72d2358922"
  }
 ],
 "metadata": {
  "kernelspec": {
   "display_name": "Python 3",
   "language": "python",
   "name": "python3"
  },
  "language_info": {
   "codemirror_mode": {
    "name": "ipython",
    "version": 2
   },
   "file_extension": ".py",
   "mimetype": "text/x-python",
   "name": "python",
   "nbconvert_exporter": "python",
   "pygments_lexer": "ipython2",
   "version": "2.7.6"
  }
 },
 "nbformat": 4,
 "nbformat_minor": 5
}
